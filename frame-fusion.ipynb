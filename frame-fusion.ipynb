{
 "cells": [
  {
   "cell_type": "markdown",
   "id": "f1e0286d",
   "metadata": {
    "id": "qNLUPuRpkFv_",
    "papermill": {
     "duration": 0.009053,
     "end_time": "2025-01-24T14:46:37.737817",
     "exception": false,
     "start_time": "2025-01-24T14:46:37.728764",
     "status": "completed"
    },
    "tags": []
   },
   "source": [
    "##### Copyright 2022 The TensorFlow Hub Authors.\n",
    "\n",
    "Licensed under the Apache License, Version 2.0 (the \"License\");"
   ]
  },
  {
   "cell_type": "code",
   "execution_count": 1,
   "id": "60c8219f",
   "metadata": {
    "cellView": "form",
    "execution": {
     "iopub.execute_input": "2025-01-24T14:46:37.749767Z",
     "iopub.status.busy": "2025-01-24T14:46:37.749343Z",
     "iopub.status.idle": "2025-01-24T14:46:37.754830Z",
     "shell.execute_reply": "2025-01-24T14:46:37.753975Z"
    },
    "id": "DQcWZm0FkPk-",
    "papermill": {
     "duration": 0.01345,
     "end_time": "2025-01-24T14:46:37.756600",
     "exception": false,
     "start_time": "2025-01-24T14:46:37.743150",
     "status": "completed"
    },
    "tags": []
   },
   "outputs": [],
   "source": [
    "#@title Copyright 2022 The TensorFlow Hub Authors. All Rights Reserved.\n",
    "#\n",
    "# Licensed under the Apache License, Version 2.0 (the \"License\");\n",
    "# you may not use this file except in compliance with the License.\n",
    "# You may obtain a copy of the License at\n",
    "#\n",
    "#     http://www.apache.org/licenses/LICENSE-2.0\n",
    "#\n",
    "# Unless required by applicable law or agreed to in writing, software\n",
    "# distributed under the License is distributed on an \"AS IS\" BASIS,\n",
    "# WITHOUT WARRANTIES OR CONDITIONS OF ANY KIND, either express or implied.\n",
    "# See the License for the specific language governing permissions and\n",
    "# limitations under the License.\n",
    "# =============================================================================="
   ]
  },
  {
   "cell_type": "markdown",
   "id": "9e26c092",
   "metadata": {
    "id": "jMWFVTlbrQ8m",
    "papermill": {
     "duration": 0.00504,
     "end_time": "2025-01-24T14:46:37.766915",
     "exception": false,
     "start_time": "2025-01-24T14:46:37.761875",
     "status": "completed"
    },
    "tags": []
   },
   "source": [
    "<table class=\"tfo-notebook-buttons\" align=\"left\">\n",
    "  <td>\n",
    "    <a target=\"_blank\" href=\"https://www.tensorflow.org/hub/tutorials/tf_hub_film_example\"><img src=\"https://www.tensorflow.org/images/tf_logo_32px.png\" />View on TensorFlow.org</a>\n",
    "  </td>\n",
    "  <td>\n",
    "    <a target=\"_blank\" href=\"https://colab.research.google.com/github/tensorflow/hub/blob/master/examples/colab/tf_hub_film_example.ipynb\"><img src=\"https://www.tensorflow.org/images/colab_logo_32px.png\" />Run in Google Colab</a>\n",
    "  </td>\n",
    "  <td>\n",
    "    <a target=\"_blank\" href=\"https://github.com/tensorflow/hub/blob/master/examples/colab/tf_hub_film_example.ipynb\"><img src=\"https://www.tensorflow.org/images/GitHub-Mark-32px.png\" />View on GitHub</a>\n",
    "  </td>\n",
    "  <td>\n",
    "    <a href=\"https://storage.googleapis.com/tensorflow_docs/hub/examples/colab/tf_hub_film_example.ipynb\"><img src=\"https://www.tensorflow.org/images/download_logo_32px.png\" />Download notebook</a>\n",
    "  </td>\n",
    "  <td>\n",
    "    <a href=\"/kaggle/input/film/tensorflow2/film/1\"><img src=\"https://www.tensorflow.org/images/hub_logo_32px.png\" />See TF Hub model</a>\n",
    "  </td>\n",
    "</table>"
   ]
  },
  {
   "cell_type": "markdown",
   "id": "ccb25977",
   "metadata": {
    "id": "Exbxve1rHlrF",
    "papermill": {
     "duration": 0.005114,
     "end_time": "2025-01-24T14:46:37.777250",
     "exception": false,
     "start_time": "2025-01-24T14:46:37.772136",
     "status": "completed"
    },
    "tags": []
   },
   "source": [
    "# Frame interpolation using the FILM model\n"
   ]
  },
  {
   "cell_type": "markdown",
   "id": "3086c9ba",
   "metadata": {
    "id": "61H28S7ArUAZ",
    "papermill": {
     "duration": 0.005045,
     "end_time": "2025-01-24T14:46:37.787558",
     "exception": false,
     "start_time": "2025-01-24T14:46:37.782513",
     "status": "completed"
    },
    "tags": []
   },
   "source": [
    "Frame interpolation is the task of synthesizing many in-between images from a given set of images. The technique is often used for frame rate upsampling or creating slow-motion video effects.\n",
    "\n",
    "In this colab, you will use the FILM model to do frame interpolation. The colab also provides code snippets to create videos from the interpolated in-between images.\n",
    "\n",
    "For more information on FILM research, you can read more here:\n",
    "- Google AI Blog: [Large Motion Frame Interpolation](https://ai.googleblog.com/2022/10/large-motion-frame-interpolation.html)\n",
    "- Project Page: FILM: [Frame Interpolation for Large Motion](https://film-net.github.io/)\n"
   ]
  },
  {
   "cell_type": "markdown",
   "id": "2ad25193",
   "metadata": {
    "papermill": {
     "duration": 0.005129,
     "end_time": "2025-01-24T14:46:37.797887",
     "exception": false,
     "start_time": "2025-01-24T14:46:37.792758",
     "status": "completed"
    },
    "tags": []
   },
   "source": []
  },
  {
   "cell_type": "markdown",
   "id": "94c460e6",
   "metadata": {
    "id": "dVX7s6zMulsu",
    "papermill": {
     "duration": 0.005151,
     "end_time": "2025-01-24T14:46:37.808232",
     "exception": false,
     "start_time": "2025-01-24T14:46:37.803081",
     "status": "completed"
    },
    "tags": []
   },
   "source": [
    "## Setup"
   ]
  },
  {
   "cell_type": "code",
   "execution_count": 2,
   "id": "159d01a0",
   "metadata": {
    "execution": {
     "iopub.execute_input": "2025-01-24T14:46:37.819898Z",
     "iopub.status.busy": "2025-01-24T14:46:37.819651Z",
     "iopub.status.idle": "2025-01-24T14:46:51.039869Z",
     "shell.execute_reply": "2025-01-24T14:46:51.038664Z"
    },
    "id": "oi5t2OEJsGBW",
    "papermill": {
     "duration": 13.228481,
     "end_time": "2025-01-24T14:46:51.042086",
     "exception": false,
     "start_time": "2025-01-24T14:46:37.813605",
     "status": "completed"
    },
    "tags": []
   },
   "outputs": [
    {
     "name": "stdout",
     "output_type": "stream",
     "text": [
      "/bin/bash: /opt/conda/lib/libtinfo.so.6: no version information available (required by /bin/bash)\r\n"
     ]
    },
    {
     "name": "stdout",
     "output_type": "stream",
     "text": [
      "Collecting mediapy\r\n"
     ]
    },
    {
     "name": "stdout",
     "output_type": "stream",
     "text": [
      "  Downloading mediapy-1.1.2-py3-none-any.whl (24 kB)\r\n",
      "Requirement already satisfied: ipython in /opt/conda/lib/python3.7/site-packages (from mediapy) (7.33.0)\r\n",
      "Requirement already satisfied: Pillow in /opt/conda/lib/python3.7/site-packages (from mediapy) (9.2.0)\r\n",
      "Requirement already satisfied: numpy in /opt/conda/lib/python3.7/site-packages (from mediapy) (1.21.6)\r\n",
      "Requirement already satisfied: matplotlib in /opt/conda/lib/python3.7/site-packages (from mediapy) (3.5.3)\r\n"
     ]
    },
    {
     "name": "stdout",
     "output_type": "stream",
     "text": [
      "Requirement already satisfied: matplotlib-inline in /opt/conda/lib/python3.7/site-packages (from ipython->mediapy) (0.1.6)\r\n",
      "Requirement already satisfied: pexpect>4.3 in /opt/conda/lib/python3.7/site-packages (from ipython->mediapy) (4.8.0)\r\n",
      "Requirement already satisfied: traitlets>=4.2 in /opt/conda/lib/python3.7/site-packages (from ipython->mediapy) (5.4.0)\r\n",
      "Requirement already satisfied: pickleshare in /opt/conda/lib/python3.7/site-packages (from ipython->mediapy) (0.7.5)\r\n",
      "Requirement already satisfied: decorator in /opt/conda/lib/python3.7/site-packages (from ipython->mediapy) (5.1.1)\r\n",
      "Requirement already satisfied: prompt-toolkit!=3.0.0,!=3.0.1,<3.1.0,>=2.0.0 in /opt/conda/lib/python3.7/site-packages (from ipython->mediapy) (3.0.31)\r\n",
      "Requirement already satisfied: pygments in /opt/conda/lib/python3.7/site-packages (from ipython->mediapy) (2.14.0)\r\n",
      "Requirement already satisfied: jedi>=0.16 in /opt/conda/lib/python3.7/site-packages (from ipython->mediapy) (0.18.1)\r\n",
      "Requirement already satisfied: setuptools>=18.5 in /opt/conda/lib/python3.7/site-packages (from ipython->mediapy) (59.8.0)\r\n",
      "Requirement already satisfied: backcall in /opt/conda/lib/python3.7/site-packages (from ipython->mediapy) (0.2.0)\r\n",
      "Requirement already satisfied: packaging>=20.0 in /opt/conda/lib/python3.7/site-packages (from matplotlib->mediapy) (23.0)\r\n",
      "Requirement already satisfied: cycler>=0.10 in /opt/conda/lib/python3.7/site-packages (from matplotlib->mediapy) (0.11.0)\r\n"
     ]
    },
    {
     "name": "stdout",
     "output_type": "stream",
     "text": [
      "Requirement already satisfied: kiwisolver>=1.0.1 in /opt/conda/lib/python3.7/site-packages (from matplotlib->mediapy) (1.4.4)\r\n",
      "Requirement already satisfied: fonttools>=4.22.0 in /opt/conda/lib/python3.7/site-packages (from matplotlib->mediapy) (4.37.1)\r\n",
      "Requirement already satisfied: pyparsing>=2.2.1 in /opt/conda/lib/python3.7/site-packages (from matplotlib->mediapy) (3.0.9)\r\n",
      "Requirement already satisfied: python-dateutil>=2.7 in /opt/conda/lib/python3.7/site-packages (from matplotlib->mediapy) (2.8.2)\r\n"
     ]
    },
    {
     "name": "stdout",
     "output_type": "stream",
     "text": [
      "Requirement already satisfied: parso<0.9.0,>=0.8.0 in /opt/conda/lib/python3.7/site-packages (from jedi>=0.16->ipython->mediapy) (0.8.3)\r\n",
      "Requirement already satisfied: typing-extensions in /opt/conda/lib/python3.7/site-packages (from kiwisolver>=1.0.1->matplotlib->mediapy) (4.1.1)\r\n",
      "Requirement already satisfied: ptyprocess>=0.5 in /opt/conda/lib/python3.7/site-packages (from pexpect>4.3->ipython->mediapy) (0.7.0)\r\n",
      "Requirement already satisfied: wcwidth in /opt/conda/lib/python3.7/site-packages (from prompt-toolkit!=3.0.0,!=3.0.1,<3.1.0,>=2.0.0->ipython->mediapy) (0.2.5)\r\n",
      "Requirement already satisfied: six>=1.5 in /opt/conda/lib/python3.7/site-packages (from python-dateutil>=2.7->matplotlib->mediapy) (1.16.0)\r\n"
     ]
    },
    {
     "name": "stdout",
     "output_type": "stream",
     "text": [
      "Installing collected packages: mediapy\r\n"
     ]
    },
    {
     "name": "stdout",
     "output_type": "stream",
     "text": [
      "Successfully installed mediapy-1.1.2\r\n",
      "\u001b[33mWARNING: Running pip as the 'root' user can result in broken permissions and conflicting behaviour with the system package manager. It is recommended to use a virtual environment instead: https://pip.pypa.io/warnings/venv\u001b[0m\u001b[33m\r\n",
      "\u001b[0m"
     ]
    },
    {
     "name": "stdout",
     "output_type": "stream",
     "text": [
      "/bin/bash: /opt/conda/lib/libtinfo.so.6: no version information available (required by /bin/bash)\r\n"
     ]
    },
    {
     "name": "stdout",
     "output_type": "stream",
     "text": [
      "\r",
      "Reading package lists... 0%\r"
     ]
    },
    {
     "name": "stdout",
     "output_type": "stream",
     "text": [
      "\r",
      "Reading package lists... 0%\r",
      "\r",
      "Reading package lists... 0%\r",
      "\r",
      "Reading package lists... 4%\r",
      "\r",
      "Reading package lists... 4%\r"
     ]
    },
    {
     "name": "stdout",
     "output_type": "stream",
     "text": [
      "\r",
      "Reading package lists... 5%\r",
      "\r",
      "Reading package lists... 5%\r"
     ]
    },
    {
     "name": "stdout",
     "output_type": "stream",
     "text": [
      "\r",
      "Reading package lists... 47%\r",
      "\r",
      "Reading package lists... 47%\r",
      "\r",
      "Reading package lists... 47%\r",
      "\r",
      "Reading package lists... 47%\r"
     ]
    },
    {
     "name": "stdout",
     "output_type": "stream",
     "text": [
      "\r",
      "Reading package lists... 58%\r",
      "\r",
      "Reading package lists... 58%\r"
     ]
    },
    {
     "name": "stdout",
     "output_type": "stream",
     "text": [
      "\r",
      "Reading package lists... 66%\r",
      "\r",
      "Reading package lists... 66%\r",
      "\r",
      "Reading package lists... 71%\r",
      "\r",
      "Reading package lists... 71%\r",
      "\r",
      "Reading package lists... 71%\r",
      "\r",
      "Reading package lists... 71%\r"
     ]
    },
    {
     "name": "stdout",
     "output_type": "stream",
     "text": [
      "\r",
      "Reading package lists... 71%\r",
      "\r",
      "Reading package lists... 71%\r",
      "\r",
      "Reading package lists... 72%\r",
      "\r",
      "Reading package lists... 72%\r",
      "\r",
      "Reading package lists... 72%\r",
      "\r",
      "Reading package lists... 81%\r",
      "\r",
      "Reading package lists... 81%\r"
     ]
    },
    {
     "name": "stdout",
     "output_type": "stream",
     "text": [
      "\r",
      "Reading package lists... 88%\r",
      "\r",
      "Reading package lists... 88%\r",
      "\r",
      "Reading package lists... 92%\r",
      "\r",
      "Reading package lists... 92%\r",
      "\r",
      "Reading package lists... 92%\r",
      "\r",
      "Reading package lists... 92%\r"
     ]
    },
    {
     "name": "stdout",
     "output_type": "stream",
     "text": [
      "\r",
      "Reading package lists... 96%\r",
      "\r",
      "Reading package lists... 96%\r",
      "\r",
      "Reading package lists... 96%\r",
      "\r",
      "Reading package lists... 96%\r"
     ]
    },
    {
     "name": "stdout",
     "output_type": "stream",
     "text": [
      "\r",
      "Reading package lists... 99%\r",
      "\r",
      "Reading package lists... 99%\r",
      "\r",
      "Reading package lists... 99%\r",
      "\r",
      "Reading package lists... 99%\r",
      "\r",
      "Reading package lists... Done\r",
      "\r\n",
      "\r",
      "Building dependency tree... 0%\r",
      "\r",
      "Building dependency tree... 0%\r"
     ]
    },
    {
     "name": "stdout",
     "output_type": "stream",
     "text": [
      "\r",
      "Building dependency tree... 50%\r",
      "\r",
      "Building dependency tree... 50%\r"
     ]
    },
    {
     "name": "stdout",
     "output_type": "stream",
     "text": [
      "\r",
      "Building dependency tree       \r",
      "\r\n",
      "\r",
      "Reading state information... 0%\r",
      "\r",
      "Reading state information... 0%\r",
      "\r",
      "Reading state information... Done\r",
      "\r\n",
      "ffmpeg is already the newest version (7:4.2.7-0ubuntu0.1).\r\n"
     ]
    },
    {
     "name": "stdout",
     "output_type": "stream",
     "text": [
      "0 upgraded, 0 newly installed, 0 to remove and 103 not upgraded.\r\n"
     ]
    }
   ],
   "source": [
    "!pip install mediapy\n",
    "!sudo apt-get install -y ffmpeg"
   ]
  },
  {
   "cell_type": "code",
   "execution_count": 3,
   "id": "cff261ac",
   "metadata": {
    "execution": {
     "iopub.execute_input": "2025-01-24T14:46:51.056581Z",
     "iopub.status.busy": "2025-01-24T14:46:51.056262Z",
     "iopub.status.idle": "2025-01-24T14:46:59.351879Z",
     "shell.execute_reply": "2025-01-24T14:46:59.350619Z"
    },
    "id": "BA1tq39MjOiF",
    "papermill": {
     "duration": 8.307435,
     "end_time": "2025-01-24T14:46:59.356391",
     "exception": false,
     "start_time": "2025-01-24T14:46:51.048956",
     "status": "completed"
    },
    "tags": []
   },
   "outputs": [],
   "source": [
    "import tensorflow as tf\n",
    "import tensorflow_hub as hub\n",
    "\n",
    "import requests\n",
    "import numpy as np\n",
    "\n",
    "from typing import Generator, Iterable, List, Optional\n",
    "import mediapy as media"
   ]
  },
  {
   "cell_type": "markdown",
   "id": "ee07f4e0",
   "metadata": {
    "id": "GTgXmeYGnT7q",
    "papermill": {
     "duration": 0.019605,
     "end_time": "2025-01-24T14:46:59.396238",
     "exception": false,
     "start_time": "2025-01-24T14:46:59.376633",
     "status": "completed"
    },
    "tags": []
   },
   "source": [
    "## Load the model from TFHub\n",
    "\n",
    "To load a model from TensorFlow Hub you need the tfhub library and the model handle which is its documentation url."
   ]
  },
  {
   "cell_type": "code",
   "execution_count": 4,
   "id": "20439240",
   "metadata": {
    "execution": {
     "iopub.execute_input": "2025-01-24T14:46:59.439103Z",
     "iopub.status.busy": "2025-01-24T14:46:59.437374Z",
     "iopub.status.idle": "2025-01-24T14:47:07.969084Z",
     "shell.execute_reply": "2025-01-24T14:47:07.968338Z"
    },
    "id": "GojhvyAtjUt0",
    "papermill": {
     "duration": 8.556203,
     "end_time": "2025-01-24T14:47:07.971518",
     "exception": false,
     "start_time": "2025-01-24T14:46:59.415315",
     "status": "completed"
    },
    "tags": []
   },
   "outputs": [],
   "source": [
    "model = hub.load(\"/kaggle/input/film/tensorflow2/film/1\")"
   ]
  },
  {
   "cell_type": "markdown",
   "id": "6c6b4e94",
   "metadata": {
    "id": "DOQJPsu2CwPk",
    "papermill": {
     "duration": 0.006031,
     "end_time": "2025-01-24T14:47:07.984098",
     "exception": false,
     "start_time": "2025-01-24T14:47:07.978067",
     "status": "completed"
    },
    "tags": []
   },
   "source": [
    "## Util function to load images from a url or locally\n",
    "\n",
    "This function loads an image and make it ready to be used by the model later."
   ]
  },
  {
   "cell_type": "code",
   "execution_count": 5,
   "id": "4fe5d0e4",
   "metadata": {
    "execution": {
     "iopub.execute_input": "2025-01-24T14:47:07.997339Z",
     "iopub.status.busy": "2025-01-24T14:47:07.997092Z",
     "iopub.status.idle": "2025-01-24T14:47:08.003175Z",
     "shell.execute_reply": "2025-01-24T14:47:08.002278Z"
    },
    "id": "BPnh5uhQvFln",
    "papermill": {
     "duration": 0.014928,
     "end_time": "2025-01-24T14:47:08.005054",
     "exception": false,
     "start_time": "2025-01-24T14:47:07.990126",
     "status": "completed"
    },
    "tags": []
   },
   "outputs": [],
   "source": [
    "_UINT8_MAX_F = float(np.iinfo(np.uint8).max)\n",
    "\n",
    "def load_image(img_url: str):\n",
    "  \"\"\"Returns an image with shape [height, width, num_channels], with pixels in [0..1] range, and type np.float32.\"\"\"\n",
    "\n",
    "  if (img_url.startswith(\"https\")):\n",
    "    user_agent = {'User-agent': 'Colab Sample (https://tensorflow.org)'}\n",
    "    response = requests.get(img_url, headers=user_agent)\n",
    "    image_data = response.content\n",
    "  else:\n",
    "    image_data = tf.io.read_file(img_url)\n",
    "\n",
    "  image = tf.io.decode_image(image_data, channels=3)\n",
    "  image_numpy = tf.cast(image, dtype=tf.float32).numpy()\n",
    "  return image_numpy / _UINT8_MAX_F"
   ]
  },
  {
   "cell_type": "code",
   "execution_count": 6,
   "id": "115504fe",
   "metadata": {
    "execution": {
     "iopub.execute_input": "2025-01-24T14:47:08.018702Z",
     "iopub.status.busy": "2025-01-24T14:47:08.018444Z",
     "iopub.status.idle": "2025-01-24T14:47:10.170918Z",
     "shell.execute_reply": "2025-01-24T14:47:10.169782Z"
    },
    "id": "VEQNQlHGsWSM",
    "papermill": {
     "duration": 2.162176,
     "end_time": "2025-01-24T14:47:10.173519",
     "exception": false,
     "start_time": "2025-01-24T14:47:08.011343",
     "status": "completed"
    },
    "tags": []
   },
   "outputs": [],
   "source": [
    "# using images from the FILM repository (https://github.com/google-research/frame-interpolation/)\n",
    "\n",
    "image_1_url = \"https://github.com/google-research/frame-interpolation/blob/main/photos/one.png?raw=true\"\n",
    "image_2_url = \"https://github.com/google-research/frame-interpolation/blob/main/photos/two.png?raw=true\"\n",
    "\n",
    "time = np.array([0.5], dtype=np.float32)\n",
    "\n",
    "image1 = load_image(image_1_url)\n",
    "image2 = load_image(image_2_url)"
   ]
  },
  {
   "cell_type": "markdown",
   "id": "9b424510",
   "metadata": {
    "id": "yjDFns1zp5y6",
    "papermill": {
     "duration": 0.006385,
     "end_time": "2025-01-24T14:47:10.187538",
     "exception": false,
     "start_time": "2025-01-24T14:47:10.181153",
     "status": "completed"
    },
    "tags": []
   },
   "source": [
    "FILM's model input is a dictionary with the keys `time`, `x0`, `x1`:\n",
    "\n",
    "- `time`: position of the interpolated frame. Midway is `0.5`.\n",
    "- `x0`: is the initial frame.\n",
    "- `x1`: is the final frame.\n",
    "\n",
    "Both frames need to be normalized (done in the function `load_image` above) where each pixel is in the range of `[0..1]`.\n",
    "\n",
    "`time` is a value between `[0..1]` and it says where the generated image should be. 0.5 is midway between the input images.\n",
    "\n",
    "All three values need to have a batch dimension too."
   ]
  },
  {
   "cell_type": "code",
   "execution_count": 7,
   "id": "1aa77c18",
   "metadata": {
    "execution": {
     "iopub.execute_input": "2025-01-24T14:47:10.201711Z",
     "iopub.status.busy": "2025-01-24T14:47:10.201119Z",
     "iopub.status.idle": "2025-01-24T14:47:37.855106Z",
     "shell.execute_reply": "2025-01-24T14:47:37.854334Z"
    },
    "id": "r6_MQE9EuF_K",
    "papermill": {
     "duration": 27.663393,
     "end_time": "2025-01-24T14:47:37.857296",
     "exception": false,
     "start_time": "2025-01-24T14:47:10.193903",
     "status": "completed"
    },
    "tags": []
   },
   "outputs": [],
   "source": [
    "image_1_url = \"https://github.com/google-research/frame-interpolation/blob/main/photos/one.png?raw=true\"\n",
    "image_2_url = \"https://github.com/google-research/frame-interpolation/blob/main/photos/two.png?raw=true\"\n",
    "\n",
    "time = np.array([0.5], dtype=np.float32)\n",
    "\n",
    "image1 = load_image(image_1_url)\n",
    "image2 = load_image(image_2_url)\n",
    "input = {\n",
    "    'time': np.expand_dims(time, axis=0), # adding the batch dimension to the time\n",
    "     'x0': np.expand_dims(image1, axis=0), # adding the batch dimension to the image\n",
    "     'x1': np.expand_dims(image2, axis=0)  # adding the batch dimension to the image\n",
    "}\n",
    "mid_frame = model(input)"
   ]
  },
  {
   "cell_type": "code",
   "execution_count": 8,
   "id": "f7591793",
   "metadata": {
    "execution": {
     "iopub.execute_input": "2025-01-24T14:47:37.873114Z",
     "iopub.status.busy": "2025-01-24T14:47:37.872633Z",
     "iopub.status.idle": "2025-01-24T14:47:37.879924Z",
     "shell.execute_reply": "2025-01-24T14:47:37.879037Z"
    },
    "papermill": {
     "duration": 0.016495,
     "end_time": "2025-01-24T14:47:37.881665",
     "exception": false,
     "start_time": "2025-01-24T14:47:37.865170",
     "status": "completed"
    },
    "tags": []
   },
   "outputs": [],
   "source": [
    "def interpolate_frames(image1, image2):\n",
    "    \"\"\"Generate an interpolated frame between two images using FILM, with automatic resizing.\"\"\"\n",
    "    try:\n",
    "        # Load and normalize images\n",
    "        img1 = load_image(image1)\n",
    "        img2 = load_image(image2)\n",
    "\n",
    "        # If shapes differ, resize the second image to match the first\n",
    "        if img1.shape != img2.shape:\n",
    "            target_shape = img1.shape[:2]  # Use the shape (height, width) of the first image\n",
    "            img2 = tf.image.resize(img2, target_shape).numpy()\n",
    "\n",
    "        # Time input (interpolation at the middle point, i.e., 0.5)\n",
    "        time = np.array([0.5], dtype=np.float32)\n",
    "\n",
    "        # Prepare input as a dictionary\n",
    "        input_data = {\n",
    "            'time': np.expand_dims(time, axis=0),  # Add batch dimension to time\n",
    "            'x0': np.expand_dims(img1, axis=0),   # Add batch dimension to image 1\n",
    "            'x1': np.expand_dims(img2, axis=0)    # Add batch dimension to image 2\n",
    "        }\n",
    "        output=model(input_data)['image'][0].numpy()/1.05\n",
    "        return output\n",
    "\n",
    "    except Exception as e:\n",
    "        return f\"Error: {str(e)}\"\n",
    "\n",
    "        return output\n",
    "\n",
    "    except Exception as e:\n",
    "        return f\"Error: {e}\""
   ]
  },
  {
   "cell_type": "code",
   "execution_count": 9,
   "id": "27d56106",
   "metadata": {
    "execution": {
     "iopub.execute_input": "2025-01-24T14:47:37.895635Z",
     "iopub.status.busy": "2025-01-24T14:47:37.895406Z",
     "iopub.status.idle": "2025-01-24T14:47:51.055133Z",
     "shell.execute_reply": "2025-01-24T14:47:51.053991Z"
    },
    "papermill": {
     "duration": 13.169176,
     "end_time": "2025-01-24T14:47:51.057495",
     "exception": false,
     "start_time": "2025-01-24T14:47:37.888319",
     "status": "completed"
    },
    "tags": []
   },
   "outputs": [
    {
     "name": "stdout",
     "output_type": "stream",
     "text": [
      "/bin/bash: /opt/conda/lib/libtinfo.so.6: no version information available (required by /bin/bash)\r\n"
     ]
    },
    {
     "name": "stdout",
     "output_type": "stream",
     "text": [
      "Collecting gradio\r\n"
     ]
    },
    {
     "name": "stdout",
     "output_type": "stream",
     "text": [
      "  Downloading gradio-3.34.0-py3-none-any.whl (20.0 MB)\r\n",
      "\u001b[?25l     \u001b[90m━━━━━━━━━━━━━━━━━━━━━━━━━━━━━━━━━━━━━━━━\u001b[0m \u001b[32m0.0/20.0 MB\u001b[0m \u001b[31m?\u001b[0m eta \u001b[36m-:--:--\u001b[0m\r",
      "\u001b[2K     \u001b[91m╸\u001b[0m\u001b[90m━━━━━━━━━━━━━━━━━━━━━━━━━━━━━━━━━━━━━━━\u001b[0m \u001b[32m0.3/20.0 MB\u001b[0m \u001b[31m9.1 MB/s\u001b[0m eta \u001b[36m0:00:03\u001b[0m"
     ]
    },
    {
     "name": "stdout",
     "output_type": "stream",
     "text": [
      "\r",
      "\u001b[2K     \u001b[91m━━━━━\u001b[0m\u001b[90m╺\u001b[0m\u001b[90m━━━━━━━━━━━━━━━━━━━━━━━━━━━━━━━━━━\u001b[0m \u001b[32m2.6/20.0 MB\u001b[0m \u001b[31m37.7 MB/s\u001b[0m eta \u001b[36m0:00:01\u001b[0m"
     ]
    },
    {
     "name": "stdout",
     "output_type": "stream",
     "text": [
      "\r",
      "\u001b[2K     \u001b[91m━━━━━━━━━━━━━━━\u001b[0m\u001b[91m╸\u001b[0m\u001b[90m━━━━━━━━━━━━━━━━━━━━━━━━\u001b[0m \u001b[32m7.9/20.0 MB\u001b[0m \u001b[31m76.0 MB/s\u001b[0m eta \u001b[36m0:00:01\u001b[0m"
     ]
    },
    {
     "name": "stdout",
     "output_type": "stream",
     "text": [
      "\r",
      "\u001b[2K     \u001b[91m━━━━━━━━━━━━━━━━━━━━━━━━━━\u001b[0m\u001b[90m╺\u001b[0m\u001b[90m━━━━━━━━━━━━\u001b[0m \u001b[32m13.4/20.0 MB\u001b[0m \u001b[31m158.0 MB/s\u001b[0m eta \u001b[36m0:00:01\u001b[0m\r",
      "\u001b[2K     \u001b[91m━━━━━━━━━━━━━━━━━━━━━━━━━━━━━━━━━━━━━━\u001b[0m\u001b[90m╺\u001b[0m \u001b[32m19.7/20.0 MB\u001b[0m \u001b[31m171.1 MB/s\u001b[0m eta \u001b[36m0:00:01\u001b[0m"
     ]
    },
    {
     "name": "stdout",
     "output_type": "stream",
     "text": [
      "\r",
      "\u001b[2K     \u001b[91m━━━━━━━━━━━━━━━━━━━━━━━━━━━━━━━━━━━━━━\u001b[0m\u001b[91m╸\u001b[0m \u001b[32m20.0/20.0 MB\u001b[0m \u001b[31m167.5 MB/s\u001b[0m eta \u001b[36m0:00:01\u001b[0m"
     ]
    },
    {
     "name": "stdout",
     "output_type": "stream",
     "text": [
      "\r",
      "\u001b[2K     \u001b[91m━━━━━━━━━━━━━━━━━━━━━━━━━━━━━━━━━━━━━━\u001b[0m\u001b[91m╸\u001b[0m \u001b[32m20.0/20.0 MB\u001b[0m \u001b[31m167.5 MB/s\u001b[0m eta \u001b[36m0:00:01\u001b[0m"
     ]
    },
    {
     "name": "stdout",
     "output_type": "stream",
     "text": [
      "\r",
      "\u001b[2K     \u001b[91m━━━━━━━━━━━━━━━━━━━━━━━━━━━━━━━━━━━━━━\u001b[0m\u001b[91m╸\u001b[0m \u001b[32m20.0/20.0 MB\u001b[0m \u001b[31m167.5 MB/s\u001b[0m eta \u001b[36m0:00:01\u001b[0m\r",
      "\u001b[2K     \u001b[90m━━━━━━━━━━━━━━━━━━━━━━━━━━━━━━━━━━━━━━━━\u001b[0m \u001b[32m20.0/20.0 MB\u001b[0m \u001b[31m52.8 MB/s\u001b[0m eta \u001b[36m0:00:00\u001b[0m\r\n",
      "\u001b[?25h"
     ]
    },
    {
     "name": "stdout",
     "output_type": "stream",
     "text": [
      "Requirement already satisfied: numpy in /opt/conda/lib/python3.7/site-packages (from gradio) (1.21.6)\r\n",
      "Requirement already satisfied: pillow in /opt/conda/lib/python3.7/site-packages (from gradio) (9.2.0)\r\n"
     ]
    },
    {
     "name": "stdout",
     "output_type": "stream",
     "text": [
      "Collecting huggingface-hub>=0.14.0\r\n"
     ]
    },
    {
     "name": "stdout",
     "output_type": "stream",
     "text": [
      "  Downloading huggingface_hub-0.16.4-py3-none-any.whl (268 kB)\r\n",
      "\u001b[?25l     \u001b[90m━━━━━━━━━━━━━━━━━━━━━━━━━━━━━━━━━━━━━━━━\u001b[0m \u001b[32m0.0/268.8 kB\u001b[0m \u001b[31m?\u001b[0m eta \u001b[36m-:--:--\u001b[0m\r",
      "\u001b[2K     \u001b[90m━━━━━━━━━━━━━━━━━━━━━━━━━━━━━━━━━━━━━━\u001b[0m \u001b[32m268.8/268.8 kB\u001b[0m \u001b[31m25.1 MB/s\u001b[0m eta \u001b[36m0:00:00\u001b[0m\r\n",
      "\u001b[?25hRequirement already satisfied: pydub in /opt/conda/lib/python3.7/site-packages (from gradio) (0.25.1)\r\n",
      "Requirement already satisfied: requests in /opt/conda/lib/python3.7/site-packages (from gradio) (2.28.1)\r\n",
      "Requirement already satisfied: aiohttp in /opt/conda/lib/python3.7/site-packages (from gradio) (3.8.1)\r\n",
      "Requirement already satisfied: mdit-py-plugins<=0.3.3 in /opt/conda/lib/python3.7/site-packages (from gradio) (0.3.0)\r\n",
      "Requirement already satisfied: matplotlib in /opt/conda/lib/python3.7/site-packages (from gradio) (3.5.3)\r\n",
      "Requirement already satisfied: typing-extensions in /opt/conda/lib/python3.7/site-packages (from gradio) (4.1.1)\r\n"
     ]
    },
    {
     "name": "stdout",
     "output_type": "stream",
     "text": [
      "Collecting python-multipart\r\n",
      "  Downloading python_multipart-0.0.8-py3-none-any.whl (22 kB)\r\n",
      "Requirement already satisfied: uvicorn>=0.14.0 in /opt/conda/lib/python3.7/site-packages (from gradio) (0.20.0)\r\n",
      "Requirement already satisfied: markdown-it-py[linkify]>=2.0.0 in /opt/conda/lib/python3.7/site-packages (from gradio) (2.1.0)\r\n",
      "Requirement already satisfied: pygments>=2.12.0 in /opt/conda/lib/python3.7/site-packages (from gradio) (2.14.0)\r\n",
      "Requirement already satisfied: markupsafe in /opt/conda/lib/python3.7/site-packages (from gradio) (2.1.2)\r\n"
     ]
    },
    {
     "name": "stdout",
     "output_type": "stream",
     "text": [
      "Collecting gradio-client>=0.2.6\r\n"
     ]
    },
    {
     "name": "stdout",
     "output_type": "stream",
     "text": [
      "  Downloading gradio_client-0.2.6-py3-none-any.whl (288 kB)\r\n",
      "\u001b[?25l     \u001b[90m━━━━━━━━━━━━━━━━━━━━━━━━━━━━━━━━━━━━━━━━\u001b[0m \u001b[32m0.0/288.3 kB\u001b[0m \u001b[31m?\u001b[0m eta \u001b[36m-:--:--\u001b[0m\r",
      "\u001b[2K     \u001b[90m━━━━━━━━━━━━━━━━━━━━━━━━━━━━━━━━━━━━━━\u001b[0m \u001b[32m288.3/288.3 kB\u001b[0m \u001b[31m19.0 MB/s\u001b[0m eta \u001b[36m0:00:00\u001b[0m\r\n",
      "\u001b[?25h"
     ]
    },
    {
     "name": "stdout",
     "output_type": "stream",
     "text": [
      "Collecting semantic-version\r\n",
      "  Downloading semantic_version-2.10.0-py2.py3-none-any.whl (15 kB)\r\n",
      "Requirement already satisfied: jinja2 in /opt/conda/lib/python3.7/site-packages (from gradio) (3.1.2)\r\n"
     ]
    },
    {
     "name": "stdout",
     "output_type": "stream",
     "text": [
      "Collecting aiofiles\r\n",
      "  Downloading aiofiles-23.2.1-py3-none-any.whl (15 kB)\r\n",
      "Requirement already satisfied: websockets>=10.0 in /opt/conda/lib/python3.7/site-packages (from gradio) (10.4)\r\n",
      "Requirement already satisfied: pydantic in /opt/conda/lib/python3.7/site-packages (from gradio) (1.8.2)\r\n",
      "Requirement already satisfied: altair>=4.2.0 in /opt/conda/lib/python3.7/site-packages (from gradio) (4.2.2)\r\n"
     ]
    },
    {
     "name": "stdout",
     "output_type": "stream",
     "text": [
      "Collecting httpx\r\n"
     ]
    },
    {
     "name": "stdout",
     "output_type": "stream",
     "text": [
      "  Downloading httpx-0.24.1-py3-none-any.whl (75 kB)\r\n",
      "\u001b[?25l     \u001b[90m━━━━━━━━━━━━━━━━━━━━━━━━━━━━━━━━━━━━━━━━\u001b[0m \u001b[32m0.0/75.4 kB\u001b[0m \u001b[31m?\u001b[0m eta \u001b[36m-:--:--\u001b[0m\r",
      "\u001b[2K     \u001b[90m━━━━━━━━━━━━━━━━━━━━━━━━━━━━━━━━━━━━━━━━\u001b[0m \u001b[32m75.4/75.4 kB\u001b[0m \u001b[31m8.0 MB/s\u001b[0m eta \u001b[36m0:00:00\u001b[0m\r\n",
      "\u001b[?25hRequirement already satisfied: pyyaml in /opt/conda/lib/python3.7/site-packages (from gradio) (6.0)\r\n"
     ]
    },
    {
     "name": "stdout",
     "output_type": "stream",
     "text": [
      "Collecting ffmpy\r\n",
      "  Downloading ffmpy-0.3.3-py3-none-any.whl (5.8 kB)\r\n",
      "Requirement already satisfied: fastapi in /opt/conda/lib/python3.7/site-packages (from gradio) (0.90.1)\r\n",
      "Requirement already satisfied: orjson in /opt/conda/lib/python3.7/site-packages (from gradio) (3.8.0)\r\n",
      "Requirement already satisfied: pandas in /opt/conda/lib/python3.7/site-packages (from gradio) (1.3.5)\r\n"
     ]
    },
    {
     "name": "stdout",
     "output_type": "stream",
     "text": [
      "Requirement already satisfied: entrypoints in /opt/conda/lib/python3.7/site-packages (from altair>=4.2.0->gradio) (0.4)\r\n",
      "Requirement already satisfied: toolz in /opt/conda/lib/python3.7/site-packages (from altair>=4.2.0->gradio) (0.11.2)\r\n",
      "Requirement already satisfied: jsonschema>=3.0 in /opt/conda/lib/python3.7/site-packages (from altair>=4.2.0->gradio) (4.16.0)\r\n",
      "Requirement already satisfied: packaging in /opt/conda/lib/python3.7/site-packages (from gradio-client>=0.2.6->gradio) (23.0)\r\n",
      "Requirement already satisfied: fsspec in /opt/conda/lib/python3.7/site-packages (from gradio-client>=0.2.6->gradio) (2023.1.0)\r\n"
     ]
    },
    {
     "name": "stdout",
     "output_type": "stream",
     "text": [
      "Requirement already satisfied: importlib-metadata in /opt/conda/lib/python3.7/site-packages (from huggingface-hub>=0.14.0->gradio) (6.0.0)\r\n",
      "Requirement already satisfied: tqdm>=4.42.1 in /opt/conda/lib/python3.7/site-packages (from huggingface-hub>=0.14.0->gradio) (4.64.1)\r\n",
      "Requirement already satisfied: filelock in /opt/conda/lib/python3.7/site-packages (from huggingface-hub>=0.14.0->gradio) (3.7.1)\r\n",
      "Requirement already satisfied: mdurl~=0.1 in /opt/conda/lib/python3.7/site-packages (from markdown-it-py[linkify]>=2.0.0->gradio) (0.1.0)\r\n"
     ]
    },
    {
     "name": "stdout",
     "output_type": "stream",
     "text": [
      "Collecting linkify-it-py~=1.0\r\n",
      "  Downloading linkify_it_py-1.0.3-py3-none-any.whl (19 kB)\r\n"
     ]
    },
    {
     "name": "stdout",
     "output_type": "stream",
     "text": [
      "Requirement already satisfied: python-dateutil>=2.7.3 in /opt/conda/lib/python3.7/site-packages (from pandas->gradio) (2.8.2)\r\n",
      "Requirement already satisfied: pytz>=2017.3 in /opt/conda/lib/python3.7/site-packages (from pandas->gradio) (2022.2.1)\r\n",
      "Requirement already satisfied: h11>=0.8 in /opt/conda/lib/python3.7/site-packages (from uvicorn>=0.14.0->gradio) (0.14.0)\r\n",
      "Requirement already satisfied: click>=7.0 in /opt/conda/lib/python3.7/site-packages (from uvicorn>=0.14.0->gradio) (8.1.3)\r\n"
     ]
    },
    {
     "name": "stdout",
     "output_type": "stream",
     "text": [
      "Requirement already satisfied: async-timeout<5.0,>=4.0.0a3 in /opt/conda/lib/python3.7/site-packages (from aiohttp->gradio) (4.0.2)\r\n",
      "Requirement already satisfied: asynctest==0.13.0 in /opt/conda/lib/python3.7/site-packages (from aiohttp->gradio) (0.13.0)\r\n",
      "Requirement already satisfied: multidict<7.0,>=4.5 in /opt/conda/lib/python3.7/site-packages (from aiohttp->gradio) (6.0.2)\r\n",
      "Requirement already satisfied: attrs>=17.3.0 in /opt/conda/lib/python3.7/site-packages (from aiohttp->gradio) (22.1.0)\r\n",
      "Requirement already satisfied: aiosignal>=1.1.2 in /opt/conda/lib/python3.7/site-packages (from aiohttp->gradio) (1.2.0)\r\n",
      "Requirement already satisfied: yarl<2.0,>=1.0 in /opt/conda/lib/python3.7/site-packages (from aiohttp->gradio) (1.7.2)\r\n",
      "Requirement already satisfied: charset-normalizer<3.0,>=2.0 in /opt/conda/lib/python3.7/site-packages (from aiohttp->gradio) (2.1.1)\r\n",
      "Requirement already satisfied: frozenlist>=1.1.1 in /opt/conda/lib/python3.7/site-packages (from aiohttp->gradio) (1.3.1)\r\n"
     ]
    },
    {
     "name": "stdout",
     "output_type": "stream",
     "text": [
      "Requirement already satisfied: starlette<0.24.0,>=0.22.0 in /opt/conda/lib/python3.7/site-packages (from fastapi->gradio) (0.23.1)\r\n",
      "Collecting ffmpy\r\n"
     ]
    },
    {
     "name": "stdout",
     "output_type": "stream",
     "text": [
      "  Downloading ffmpy-0.3.2.tar.gz (5.5 kB)\r\n"
     ]
    },
    {
     "name": "stdout",
     "output_type": "stream",
     "text": [
      "  Preparing metadata (setup.py) ... \u001b[?25l-"
     ]
    },
    {
     "name": "stdout",
     "output_type": "stream",
     "text": [
      "\b \bdone\r\n"
     ]
    },
    {
     "name": "stdout",
     "output_type": "stream",
     "text": [
      "\u001b[?25hCollecting httpcore<0.18.0,>=0.15.0\r\n",
      "  Downloading httpcore-0.17.3-py3-none-any.whl (74 kB)\r\n",
      "\u001b[?25l     \u001b[90m━━━━━━━━━━━━━━━━━━━━━━━━━━━━━━━━━━━━━━━━\u001b[0m \u001b[32m0.0/74.5 kB\u001b[0m \u001b[31m?\u001b[0m eta \u001b[36m-:--:--\u001b[0m\r",
      "\u001b[2K     \u001b[90m━━━━━━━━━━━━━━━━━━━━━━━━━━━━━━━━━━━━━━━━\u001b[0m \u001b[32m74.5/74.5 kB\u001b[0m \u001b[31m6.4 MB/s\u001b[0m eta \u001b[36m0:00:00\u001b[0m\r\n",
      "\u001b[?25hRequirement already satisfied: idna in /opt/conda/lib/python3.7/site-packages (from httpx->gradio) (3.3)\r\n",
      "Requirement already satisfied: certifi in /opt/conda/lib/python3.7/site-packages (from httpx->gradio) (2022.12.7)\r\n",
      "Requirement already satisfied: sniffio in /opt/conda/lib/python3.7/site-packages (from httpx->gradio) (1.3.0)\r\n"
     ]
    },
    {
     "name": "stdout",
     "output_type": "stream",
     "text": [
      "Requirement already satisfied: kiwisolver>=1.0.1 in /opt/conda/lib/python3.7/site-packages (from matplotlib->gradio) (1.4.4)\r\n",
      "Requirement already satisfied: pyparsing>=2.2.1 in /opt/conda/lib/python3.7/site-packages (from matplotlib->gradio) (3.0.9)\r\n",
      "Requirement already satisfied: fonttools>=4.22.0 in /opt/conda/lib/python3.7/site-packages (from matplotlib->gradio) (4.37.1)\r\n",
      "Requirement already satisfied: cycler>=0.10 in /opt/conda/lib/python3.7/site-packages (from matplotlib->gradio) (0.11.0)\r\n",
      "Requirement already satisfied: urllib3<1.27,>=1.21.1 in /opt/conda/lib/python3.7/site-packages (from requests->gradio) (1.26.11)\r\n"
     ]
    },
    {
     "name": "stdout",
     "output_type": "stream",
     "text": [
      "Requirement already satisfied: anyio<5.0,>=3.0 in /opt/conda/lib/python3.7/site-packages (from httpcore<0.18.0,>=0.15.0->httpx->gradio) (3.6.1)\r\n"
     ]
    },
    {
     "name": "stdout",
     "output_type": "stream",
     "text": [
      "Requirement already satisfied: pyrsistent!=0.17.0,!=0.17.1,!=0.17.2,>=0.14.0 in /opt/conda/lib/python3.7/site-packages (from jsonschema>=3.0->altair>=4.2.0->gradio) (0.18.1)\r\n",
      "Requirement already satisfied: pkgutil-resolve-name>=1.3.10 in /opt/conda/lib/python3.7/site-packages (from jsonschema>=3.0->altair>=4.2.0->gradio) (1.3.10)\r\n",
      "Requirement already satisfied: importlib-resources>=1.4.0 in /opt/conda/lib/python3.7/site-packages (from jsonschema>=3.0->altair>=4.2.0->gradio) (5.10.2)\r\n"
     ]
    },
    {
     "name": "stdout",
     "output_type": "stream",
     "text": [
      "Collecting uc-micro-py\r\n"
     ]
    },
    {
     "name": "stdout",
     "output_type": "stream",
     "text": [
      "  Downloading uc_micro_py-1.0.3-py3-none-any.whl (6.2 kB)\r\n",
      "Requirement already satisfied: six>=1.5 in /opt/conda/lib/python3.7/site-packages (from python-dateutil>=2.7.3->pandas->gradio) (1.16.0)\r\n"
     ]
    },
    {
     "name": "stdout",
     "output_type": "stream",
     "text": [
      "Requirement already satisfied: zipp>=0.5 in /opt/conda/lib/python3.7/site-packages (from importlib-metadata->huggingface-hub>=0.14.0->gradio) (3.8.1)\r\n"
     ]
    },
    {
     "name": "stdout",
     "output_type": "stream",
     "text": [
      "Building wheels for collected packages: ffmpy\r\n"
     ]
    },
    {
     "name": "stdout",
     "output_type": "stream",
     "text": [
      "  Building wheel for ffmpy (setup.py) ... \u001b[?25l-"
     ]
    },
    {
     "name": "stdout",
     "output_type": "stream",
     "text": [
      "\b \b\\"
     ]
    },
    {
     "name": "stdout",
     "output_type": "stream",
     "text": [
      "\b \bdone\r\n",
      "\u001b[?25h  Created wheel for ffmpy: filename=ffmpy-0.3.2-py3-none-any.whl size=5600 sha256=eb0ddc85b6a79a4fe51b3b0bdebbff0df9ba81a65b6f4bd9ad5a2e0f55d64902\r\n",
      "  Stored in directory: /root/.cache/pip/wheels/81/c3/08/a4932aee56b934891932e4a1b189604f27d3d4e92b2ecd5ed4\r\n",
      "Successfully built ffmpy\r\n"
     ]
    },
    {
     "name": "stdout",
     "output_type": "stream",
     "text": [
      "Installing collected packages: ffmpy, uc-micro-py, semantic-version, python-multipart, aiofiles, linkify-it-py, huggingface-hub, httpcore, httpx, gradio-client, gradio\r\n"
     ]
    },
    {
     "name": "stdout",
     "output_type": "stream",
     "text": [
      "  Attempting uninstall: huggingface-hub\r\n"
     ]
    },
    {
     "name": "stdout",
     "output_type": "stream",
     "text": [
      "    Found existing installation: huggingface-hub 0.10.1\r\n",
      "    Uninstalling huggingface-hub-0.10.1:\r\n"
     ]
    },
    {
     "name": "stdout",
     "output_type": "stream",
     "text": [
      "      Successfully uninstalled huggingface-hub-0.10.1\r\n"
     ]
    },
    {
     "name": "stdout",
     "output_type": "stream",
     "text": [
      "\u001b[31mERROR: pip's dependency resolver does not currently take into account all the packages that are installed. This behaviour is the source of the following dependency conflicts.\r\n",
      "cached-path 1.1.6 requires huggingface-hub<0.11.0,>=0.8.1, but you have huggingface-hub 0.16.4 which is incompatible.\u001b[0m\u001b[31m\r\n",
      "\u001b[0mSuccessfully installed aiofiles-23.2.1 ffmpy-0.3.2 gradio-3.34.0 gradio-client-0.2.6 httpcore-0.17.3 httpx-0.24.1 huggingface-hub-0.16.4 linkify-it-py-1.0.3 python-multipart-0.0.8 semantic-version-2.10.0 uc-micro-py-1.0.3\r\n",
      "\u001b[33mWARNING: Running pip as the 'root' user can result in broken permissions and conflicting behaviour with the system package manager. It is recommended to use a virtual environment instead: https://pip.pypa.io/warnings/venv\u001b[0m\u001b[33m\r\n",
      "\u001b[0m"
     ]
    }
   ],
   "source": [
    "!pip install gradio"
   ]
  },
  {
   "cell_type": "code",
   "execution_count": 10,
   "id": "c54658f7",
   "metadata": {
    "execution": {
     "iopub.execute_input": "2025-01-24T14:47:51.076298Z",
     "iopub.status.busy": "2025-01-24T14:47:51.075992Z",
     "iopub.status.idle": "2025-01-24T14:47:52.955560Z",
     "shell.execute_reply": "2025-01-24T14:47:52.954556Z"
    },
    "papermill": {
     "duration": 1.891067,
     "end_time": "2025-01-24T14:47:52.957536",
     "exception": false,
     "start_time": "2025-01-24T14:47:51.066469",
     "status": "completed"
    },
    "tags": []
   },
   "outputs": [
    {
     "name": "stderr",
     "output_type": "stream",
     "text": [
      "/opt/conda/lib/python3.7/site-packages/gradio/inputs.py:260: UserWarning: Usage of gradio.inputs is deprecated, and will not be supported in the future, please import your component from gradio.components\n",
      "  \"Usage of gradio.inputs is deprecated, and will not be supported in the future, please import your component from gradio.components\",\n",
      "/opt/conda/lib/python3.7/site-packages/gradio/inputs.py:270: UserWarning: `optional` parameter is deprecated, and it has no effect\n",
      "  optional=optional,\n",
      "/opt/conda/lib/python3.7/site-packages/gradio/outputs.py:44: UserWarning: Usage of gradio.outputs is deprecated, and will not be supported in the future, please import your components from gradio.components\n",
      "  \"Usage of gradio.outputs is deprecated, and will not be supported in the future, please import your components from gradio.components\",\n",
      "/opt/conda/lib/python3.7/site-packages/gradio/blocks.py:679: UserWarning: Cannot load compact. Caught Exception: The space compact does not exist\n",
      "  warnings.warn(f\"Cannot load {theme}. Caught Exception: {str(e)}\")\n"
     ]
    },
    {
     "name": "stdout",
     "output_type": "stream",
     "text": [
      "IMPORTANT: You are using gradio version 3.34.0, however version 4.44.1 is available, please upgrade.\n",
      "--------\n"
     ]
    }
   ],
   "source": [
    "import gradio as gr\n",
    "image_input_1 = gr.inputs.Image(type=\"numpy\", label=\"Upload or Paste URL for Image 1\")\n",
    "image_input_2 = gr.inputs.Image(type=\"numpy\", label=\"Upload or Paste URL for Image 2\")\n",
    "output_image = gr.outputs.Image(type=\"numpy\", label=\"Interpolated Frame\")\n",
    "\n",
    "# Customize with gradio UI options\n",
    "ui = gr.Interface(\n",
    "    fn=interpolate_frames,\n",
    "    inputs=[image_input_1, image_input_2],\n",
    "    outputs=output_image,\n",
    "    title=\"Frame Interpolation\",\n",
    "    description=\"Upload two images or enter their URLs to generate an interpolated frame.\",\n",
    "    theme=\"compact\"  # You can also choose 'huggingface', 'default', etc.\n",
    ")"
   ]
  },
  {
   "cell_type": "code",
   "execution_count": null,
   "id": "1fe3577e",
   "metadata": {
    "papermill": {
     "duration": null,
     "end_time": null,
     "exception": false,
     "start_time": "2025-01-24T14:47:52.966404",
     "status": "running"
    },
    "tags": []
   },
   "outputs": [],
   "source": [
    "ui = gr.Interface(\n",
    "    fn=interpolate_frames,\n",
    "    inputs=[image_input_1, image_input_2],\n",
    "    outputs=output_image,\n",
    "    title=\"Frame Interpolation\",\n",
    "    description=\"Upload two images or enter their URLs to generate an interpolated frame.\",\n",
    "    theme='compact'# You can also choose 'huggingface', 'default', etc.\n",
    ")\n",
    "\n",
    "# Launch the app\n",
    "ui.launch(debug=True, share=True)"
   ]
  },
  {
   "cell_type": "markdown",
   "id": "e83fe3e4",
   "metadata": {
    "id": "nZkzYE2bptfD",
    "papermill": {
     "duration": null,
     "end_time": null,
     "exception": null,
     "start_time": null,
     "status": "pending"
    },
    "tags": []
   },
   "source": [
    "The model outputs a couple of results but what you'll use here is the `image` key, whose value is the interpolated frame."
   ]
  },
  {
   "cell_type": "code",
   "execution_count": null,
   "id": "3fb7fcb1",
   "metadata": {
    "id": "eClVbNFhA5Py",
    "papermill": {
     "duration": null,
     "end_time": null,
     "exception": null,
     "start_time": null,
     "status": "pending"
    },
    "tags": []
   },
   "outputs": [],
   "source": [
    "print(mid_frame.keys())"
   ]
  },
  {
   "cell_type": "code",
   "execution_count": null,
   "id": "ff1f59b4",
   "metadata": {
    "execution": {
     "iopub.execute_input": "2025-01-24T12:53:19.214285Z",
     "iopub.status.busy": "2025-01-24T12:53:19.213979Z",
     "iopub.status.idle": "2025-01-24T12:53:19.232900Z",
     "shell.execute_reply": "2025-01-24T12:53:19.232209Z",
     "shell.execute_reply.started": "2025-01-24T12:53:19.214255Z"
    },
    "papermill": {
     "duration": null,
     "end_time": null,
     "exception": null,
     "start_time": null,
     "status": "pending"
    },
    "tags": []
   },
   "outputs": [],
   "source": [
    "mid_frame['image'][0].numpy().shape"
   ]
  },
  {
   "cell_type": "code",
   "execution_count": null,
   "id": "b195df24",
   "metadata": {
    "papermill": {
     "duration": null,
     "end_time": null,
     "exception": null,
     "start_time": null,
     "status": "pending"
    },
    "tags": []
   },
   "outputs": [],
   "source": [
    "print(mid_frame['image'].dtype)  # Check if it's float32 or uint8\n",
    "print(mid_frame['image'].numpy().min(), mid_frame['image'].numpy().max())  # Check the value range"
   ]
  },
  {
   "cell_type": "code",
   "execution_count": null,
   "id": "b2b9b44a",
   "metadata": {
    "execution": {
     "iopub.execute_input": "2025-01-24T12:40:05.702697Z",
     "iopub.status.busy": "2025-01-24T12:40:05.702322Z",
     "iopub.status.idle": "2025-01-24T12:40:05.887671Z",
     "shell.execute_reply": "2025-01-24T12:40:05.886737Z",
     "shell.execute_reply.started": "2025-01-24T12:40:05.702668Z"
    },
    "id": "rE2csH3u8ePe",
    "papermill": {
     "duration": null,
     "end_time": null,
     "exception": null,
     "start_time": null,
     "status": "pending"
    },
    "tags": []
   },
   "outputs": [],
   "source": [
    "frames = [image1, mid_frame['image'][0].numpy(), image2]\n",
    "\n",
    "media.show_images(frames, titles=['input image one', 'generated image', 'input image two'], height=250)"
   ]
  },
  {
   "cell_type": "markdown",
   "id": "f3607e16",
   "metadata": {
    "id": "fS1AT8kn-f_l",
    "papermill": {
     "duration": null,
     "end_time": null,
     "exception": null,
     "start_time": null,
     "status": "pending"
    },
    "tags": []
   },
   "source": [
    "Let's create a video from the generated frames"
   ]
  },
  {
   "cell_type": "code",
   "execution_count": null,
   "id": "b269b76c",
   "metadata": {
    "execution": {
     "iopub.status.busy": "2025-01-24T08:44:06.587594Z",
     "iopub.status.idle": "2025-01-24T08:44:06.587884Z",
     "shell.execute_reply": "2025-01-24T08:44:06.587753Z",
     "shell.execute_reply.started": "2025-01-24T08:44:06.587740Z"
    },
    "id": "oFc53B3p37SH",
    "papermill": {
     "duration": null,
     "end_time": null,
     "exception": null,
     "start_time": null,
     "status": "pending"
    },
    "tags": []
   },
   "outputs": [],
   "source": [
    "media.show_video(frames, fps=3, title='FILM interpolated video')"
   ]
  },
  {
   "cell_type": "markdown",
   "id": "69252d73",
   "metadata": {
    "id": "x5AOFNkj-lfO",
    "papermill": {
     "duration": null,
     "end_time": null,
     "exception": null,
     "start_time": null,
     "status": "pending"
    },
    "tags": []
   },
   "source": [
    "## Define a Frame Interpolator Library\n",
    "\n",
    "As you can see, the transition is not too smooth. \n",
    "\n",
    "To improve that you'll need many more interpolated frames.\n",
    "\n",
    "You could just keep running the model many times with intermediary images but there is a better solution.\n",
    "\n",
    "To generate many interpolated images and have a  smoother video you'll create an interpolator library."
   ]
  },
  {
   "cell_type": "code",
   "execution_count": null,
   "id": "94494a06",
   "metadata": {
    "execution": {
     "iopub.status.busy": "2025-01-24T08:44:06.589758Z",
     "iopub.status.idle": "2025-01-24T08:44:06.590099Z",
     "shell.execute_reply": "2025-01-24T08:44:06.589961Z",
     "shell.execute_reply.started": "2025-01-24T08:44:06.589945Z"
    },
    "id": "tsoDv_9geoZn",
    "papermill": {
     "duration": null,
     "end_time": null,
     "exception": null,
     "start_time": null,
     "status": "pending"
    },
    "tags": []
   },
   "outputs": [],
   "source": [
    "\"\"\"A wrapper class for running a frame interpolation based on the FILM model on TFHub\n",
    "\n",
    "Usage:\n",
    "  interpolator = Interpolator()\n",
    "  result_batch = interpolator(image_batch_0, image_batch_1, batch_dt)\n",
    "  Where image_batch_1 and image_batch_2 are numpy tensors with TF standard\n",
    "  (B,H,W,C) layout, batch_dt is the sub-frame time in range [0..1], (B,) layout.\n",
    "\"\"\"\n",
    "\n",
    "\n",
    "def _pad_to_align(x, align):\n",
    "  \"\"\"Pads image batch x so width and height divide by align.\n",
    "\n",
    "  Args:\n",
    "    x: Image batch to align.\n",
    "    align: Number to align to.\n",
    "\n",
    "  Returns:\n",
    "    1) An image padded so width % align == 0 and height % align == 0.\n",
    "    2) A bounding box that can be fed readily to tf.image.crop_to_bounding_box\n",
    "      to undo the padding.\n",
    "  \"\"\"\n",
    "  # Input checking.\n",
    "  assert np.ndim(x) == 4\n",
    "  assert align > 0, 'align must be a positive number.'\n",
    "\n",
    "  height, width = x.shape[-3:-1]\n",
    "  height_to_pad = (align - height % align) if height % align != 0 else 0\n",
    "  width_to_pad = (align - width % align) if width % align != 0 else 0\n",
    "\n",
    "  bbox_to_pad = {\n",
    "      'offset_height': height_to_pad // 2,\n",
    "      'offset_width': width_to_pad // 2,\n",
    "      'target_height': height + height_to_pad,\n",
    "      'target_width': width + width_to_pad\n",
    "  }\n",
    "  padded_x = tf.image.pad_to_bounding_box(x, **bbox_to_pad)\n",
    "  bbox_to_crop = {\n",
    "      'offset_height': height_to_pad // 2,\n",
    "      'offset_width': width_to_pad // 2,\n",
    "      'target_height': height,\n",
    "      'target_width': width\n",
    "  }\n",
    "  return padded_x, bbox_to_crop\n",
    "\n",
    "\n",
    "class Interpolator:\n",
    "  \"\"\"A class for generating interpolated frames between two input frames.\n",
    "\n",
    "  Uses the Film model from TFHub\n",
    "  \"\"\"\n",
    "\n",
    "  def __init__(self, align: int = 64) -> None:\n",
    "    \"\"\"Loads a saved model.\n",
    "\n",
    "    Args:\n",
    "      align: 'If >1, pad the input size so it divides with this before\n",
    "        inference.'\n",
    "    \"\"\"\n",
    "    self._model = hub.load(\"/kaggle/input/film/tensorflow2/film/1\")\n",
    "    self._align = align\n",
    "\n",
    "  def __call__(self, x0: np.ndarray, x1: np.ndarray,\n",
    "               dt: np.ndarray) -> np.ndarray:\n",
    "    \"\"\"Generates an interpolated frame between given two batches of frames.\n",
    "\n",
    "    All inputs should be np.float32 datatype.\n",
    "\n",
    "    Args:\n",
    "      x0: First image batch. Dimensions: (batch_size, height, width, channels)\n",
    "      x1: Second image batch. Dimensions: (batch_size, height, width, channels)\n",
    "      dt: Sub-frame time. Range [0,1]. Dimensions: (batch_size,)\n",
    "\n",
    "    Returns:\n",
    "      The result with dimensions (batch_size, height, width, channels).\n",
    "    \"\"\"\n",
    "    if self._align is not None:\n",
    "      x0, bbox_to_crop = _pad_to_align(x0, self._align)\n",
    "      x1, _ = _pad_to_align(x1, self._align)\n",
    "\n",
    "    inputs = {'x0': x0, 'x1': x1, 'time': dt[..., np.newaxis]}\n",
    "    result = self._model(inputs, training=False)\n",
    "    image = result['image']\n",
    "\n",
    "    if self._align is not None:\n",
    "      image = tf.image.crop_to_bounding_box(image, **bbox_to_crop)\n",
    "    return image.numpy()"
   ]
  },
  {
   "cell_type": "markdown",
   "id": "7626ec9e",
   "metadata": {
    "id": "ZeGYaNBd_7a5",
    "papermill": {
     "duration": null,
     "end_time": null,
     "exception": null,
     "start_time": null,
     "status": "pending"
    },
    "tags": []
   },
   "source": [
    "## Frame and Video Generation Utility Functions"
   ]
  },
  {
   "cell_type": "code",
   "execution_count": null,
   "id": "395f1af2",
   "metadata": {
    "execution": {
     "iopub.status.busy": "2025-01-24T08:44:06.591581Z",
     "iopub.status.idle": "2025-01-24T08:44:06.591933Z",
     "shell.execute_reply": "2025-01-24T08:44:06.591765Z",
     "shell.execute_reply.started": "2025-01-24T08:44:06.591750Z"
    },
    "id": "gOJxup6s_1DP",
    "papermill": {
     "duration": null,
     "end_time": null,
     "exception": null,
     "start_time": null,
     "status": "pending"
    },
    "tags": []
   },
   "outputs": [],
   "source": [
    "def _recursive_generator(\n",
    "    frame1: np.ndarray, frame2: np.ndarray, num_recursions: int,\n",
    "    interpolator: Interpolator) -> Generator[np.ndarray, None, None]:\n",
    "  \"\"\"Splits halfway to repeatedly generate more frames.\n",
    "\n",
    "  Args:\n",
    "    frame1: Input image 1.\n",
    "    frame2: Input image 2.\n",
    "    num_recursions: How many times to interpolate the consecutive image pairs.\n",
    "    interpolator: The frame interpolator instance.\n",
    "\n",
    "  Yields:\n",
    "    The interpolated frames, including the first frame (frame1), but excluding\n",
    "    the final frame2.\n",
    "  \"\"\"\n",
    "  if num_recursions == 0:\n",
    "    yield frame1\n",
    "  else:\n",
    "    # Adds the batch dimension to all inputs before calling the interpolator,\n",
    "    # and remove it afterwards.\n",
    "    time = np.full(shape=(1,), fill_value=0.5, dtype=np.float32)\n",
    "    mid_frame = interpolator(\n",
    "        np.expand_dims(frame1, axis=0), np.expand_dims(frame2, axis=0), time)[0]\n",
    "    yield from _recursive_generator(frame1, mid_frame, num_recursions - 1,\n",
    "                                    interpolator)\n",
    "    yield from _recursive_generator(mid_frame, frame2, num_recursions - 1,\n",
    "                                    interpolator)\n",
    "\n",
    "\n",
    "def interpolate_recursively(\n",
    "    frames: List[np.ndarray], num_recursions: int,\n",
    "    interpolator: Interpolator) -> Iterable[np.ndarray]:\n",
    "  \"\"\"Generates interpolated frames by repeatedly interpolating the midpoint.\n",
    "\n",
    "  Args:\n",
    "    frames: List of input frames. Expected shape (H, W, 3). The colors should be\n",
    "      in the range[0, 1] and in gamma space.\n",
    "    num_recursions: Number of times to do recursive midpoint\n",
    "      interpolation.\n",
    "    interpolator: The frame interpolation model to use.\n",
    "\n",
    "  Yields:\n",
    "    The interpolated frames (including the inputs).\n",
    "  \"\"\"\n",
    "  n = len(frames)\n",
    "  for i in range(1, n):\n",
    "    yield from _recursive_generator(frames[i - 1], frames[i],\n",
    "                                    times_to_interpolate, interpolator)\n",
    "  # Separately yield the final frame.\n",
    "  yield frames[-1]"
   ]
  },
  {
   "cell_type": "code",
   "execution_count": null,
   "id": "4437f539",
   "metadata": {
    "execution": {
     "iopub.status.busy": "2025-01-24T08:44:06.592996Z",
     "iopub.status.idle": "2025-01-24T08:44:06.593310Z",
     "shell.execute_reply": "2025-01-24T08:44:06.593169Z",
     "shell.execute_reply.started": "2025-01-24T08:44:06.593155Z"
    },
    "id": "X1R2KjhEAHu0",
    "papermill": {
     "duration": null,
     "end_time": null,
     "exception": null,
     "start_time": null,
     "status": "pending"
    },
    "tags": []
   },
   "outputs": [],
   "source": [
    "times_to_interpolate = 6\n",
    "interpolator = Interpolator()"
   ]
  },
  {
   "cell_type": "markdown",
   "id": "2cafcff5",
   "metadata": {
    "id": "AZUo8tg1AYvZ",
    "papermill": {
     "duration": null,
     "end_time": null,
     "exception": null,
     "start_time": null,
     "status": "pending"
    },
    "tags": []
   },
   "source": [
    "## Running the Interpolator"
   ]
  },
  {
   "cell_type": "code",
   "execution_count": null,
   "id": "69a4f064",
   "metadata": {
    "execution": {
     "iopub.status.busy": "2025-01-24T08:44:06.594644Z",
     "iopub.status.idle": "2025-01-24T08:44:06.594983Z",
     "shell.execute_reply": "2025-01-24T08:44:06.594815Z",
     "shell.execute_reply.started": "2025-01-24T08:44:06.594800Z"
    },
    "id": "QMMNjs7sAWTG",
    "papermill": {
     "duration": null,
     "end_time": null,
     "exception": null,
     "start_time": null,
     "status": "pending"
    },
    "tags": []
   },
   "outputs": [],
   "source": [
    "input_frames = [image1, image2]\n",
    "frames = list(\n",
    "    interpolate_recursively(input_frames, times_to_interpolate,\n",
    "                                        interpolator))\n"
   ]
  },
  {
   "cell_type": "code",
   "execution_count": null,
   "id": "fc703b5f",
   "metadata": {
    "execution": {
     "iopub.status.busy": "2025-01-24T08:44:06.596472Z",
     "iopub.status.idle": "2025-01-24T08:44:06.596949Z",
     "shell.execute_reply": "2025-01-24T08:44:06.596716Z",
     "shell.execute_reply.started": "2025-01-24T08:44:06.596694Z"
    },
    "id": "s9mHHyCAAhrM",
    "papermill": {
     "duration": null,
     "end_time": null,
     "exception": null,
     "start_time": null,
     "status": "pending"
    },
    "tags": []
   },
   "outputs": [],
   "source": [
    "print(f'video with {len(frames)} frames')\n",
    "media.show_video(frames, fps=30, title='FILM interpolated video')"
   ]
  },
  {
   "cell_type": "markdown",
   "id": "630027a6",
   "metadata": {
    "id": "_0AZKeMVFwAc",
    "papermill": {
     "duration": null,
     "end_time": null,
     "exception": null,
     "start_time": null,
     "status": "pending"
    },
    "tags": []
   },
   "source": [
    "For more information, you can visit [FILM's model repository](https://github.com/google-research/frame-interpolation).\n"
   ]
  },
  {
   "cell_type": "markdown",
   "id": "400857ac",
   "metadata": {
    "id": "8764ry3SGDks",
    "papermill": {
     "duration": null,
     "end_time": null,
     "exception": null,
     "start_time": null,
     "status": "pending"
    },
    "tags": []
   },
   "source": [
    "## Citation\n",
    "\n",
    "If you find this model and code useful in your works, please acknowledge it appropriately by citing:\n",
    "\n",
    "```\n",
    "@inproceedings{reda2022film,\n",
    " title = {FILM: Frame Interpolation for Large Motion},\n",
    " author = {Fitsum Reda and Janne Kontkanen and Eric Tabellion and Deqing Sun and Caroline Pantofaru and Brian Curless},\n",
    " booktitle = {The European Conference on Computer Vision (ECCV)},\n",
    " year = {2022}\n",
    "}\n",
    "```\n",
    "\n",
    "```\n",
    "@misc{film-tf,\n",
    "  title = {Tensorflow 2 Implementation of \"FILM: Frame Interpolation for Large Motion\"},\n",
    "  author = {Fitsum Reda and Janne Kontkanen and Eric Tabellion and Deqing Sun and Caroline Pantofaru and Brian Curless},\n",
    "  year = {2022},\n",
    "  publisher = {GitHub},\n",
    "  journal = {GitHub repository},\n",
    "  howpublished = {\\url{https://github.com/google-research/frame-interpolation}}\n",
    "}\n",
    "```"
   ]
  },
  {
   "cell_type": "markdown",
   "id": "e0cb42eb",
   "metadata": {
    "papermill": {
     "duration": null,
     "end_time": null,
     "exception": null,
     "start_time": null,
     "status": "pending"
    },
    "tags": []
   },
   "source": [
    "Credit: https://github.com/tensorflow/hub/blob/master/examples/colab/tf_hub_film_example.ipynb"
   ]
  }
 ],
 "metadata": {
  "kaggle": {
   "accelerator": "nvidiaTeslaT4",
   "dataSources": [
    {
     "modelId": 106,
     "modelInstanceId": 902,
     "sourceId": 1049,
     "sourceType": "modelInstanceVersion"
    }
   ],
   "dockerImageVersionId": 30388,
   "isGpuEnabled": true,
   "isInternetEnabled": true,
   "language": "python",
   "sourceType": "notebook"
  },
  "kernelspec": {
   "display_name": "Python 3",
   "language": "python",
   "name": "python3"
  },
  "language_info": {
   "codemirror_mode": {
    "name": "ipython",
    "version": 3
   },
   "file_extension": ".py",
   "mimetype": "text/x-python",
   "name": "python",
   "nbconvert_exporter": "python",
   "pygments_lexer": "ipython3",
   "version": "3.7.12"
  },
  "papermill": {
   "default_parameters": {},
   "duration": null,
   "end_time": null,
   "environment_variables": {},
   "exception": null,
   "input_path": "__notebook__.ipynb",
   "output_path": "__notebook__.ipynb",
   "parameters": {},
   "start_time": "2025-01-24T14:46:29.523313",
   "version": "2.3.4"
  }
 },
 "nbformat": 4,
 "nbformat_minor": 5
}